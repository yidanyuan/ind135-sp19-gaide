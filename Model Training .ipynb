{
 "cells": [
  {
   "cell_type": "code",
   "execution_count": 1,
   "metadata": {},
   "outputs": [
    {
     "name": "stderr",
     "output_type": "stream",
     "text": [
      "Using TensorFlow backend.\n"
     ]
    }
   ],
   "source": [
    "#train an CNN model for the accent detector\n",
    "#for low tech demo: onlhy destringuish us accents with others \n",
    "\n",
    "#import models to be used\n",
    "import numpy as np\n",
    "import pandas as pd\n",
    "import librosa\n",
    "import multiprocessing\n",
    "import sys\n",
    "import os\n",
    "\n",
    "from collections import Counter\n",
    "\n",
    "from sklearn.model_selection import train_test_split\n",
    "from sklearn.preprocessing import MinMaxScaler\n",
    "\n",
    "from keras import utils\n",
    "from keras.preprocessing.image import ImageDataGenerator\n",
    "from keras.callbacks import EarlyStopping, TensorBoard\n",
    "\n",
    "from sklearn.preprocessing import LabelEncoder\n",
    "from tensorflow.python.keras import utils\n",
    "\n",
    "from scipy.io import wavfile\n",
    "from matplotlib import pyplot as plt\n",
    "import glob \n",
    "import librosa.display\n",
    "\n",
    "from keras.models import Sequential\n",
    "from keras.layers import Dense, Dropout, Activation, Flatten\n",
    "from keras.layers import Convolution2D, MaxPooling2D\n",
    "from keras.optimizers import Adam\n",
    "from keras.utils import np_utils\n",
    "from sklearn import metrics "
   ]
  },
  {
   "cell_type": "code",
   "execution_count": 2,
   "metadata": {},
   "outputs": [],
   "source": [
    "DEBUG = True\n",
    "SILENCE_THRESHOLD = .01\n",
    "RATE = 24000\n",
    "N_MFCC = 13\n",
    "COL_SIZE = 30\n",
    "EPOCHS = 10 #35#250"
   ]
  },
  {
   "cell_type": "code",
   "execution_count": 3,
   "metadata": {},
   "outputs": [],
   "source": [
    "#get audio data and information from speech accent archive using Webscraping\n",
    "import os # To interact with operating system and format file name\n",
    "import shutil # To copy file object from python to disk\n",
    "import requests\n",
    "import bs4 as bs \n",
    "from collections import Counter\n",
    "import re\n",
    "import urllib.request\n",
    "import sys\n",
    "from pydub import AudioSegment\n",
    "#source = requests.get(\"http://accent.gmu.edu/browse_language.php\")\n",
    "#soup = bs.BeautifulSoup(source.content, features='html.parser') \n",
    "#print(soup.prettify())\n"
   ]
  },
  {
   "cell_type": "code",
   "execution_count": 4,
   "metadata": {},
   "outputs": [],
   "source": [
    "\"\"\"specify desired languages; \n",
    "for now (check point #1): only english and mandarin are used;\n",
    "eventually/ideally, all languages will be used\"\"\"\n",
    "languages = [\"mandarin\",\"english\"]\n",
    "URL = 'http://accent.gmu.edu/'\n",
    "mp3_url = 'http://chnm.gmu.edu/accent/soundtracks/{}.mp3'\n"
   ]
  },
  {
   "cell_type": "code",
   "execution_count": 5,
   "metadata": {},
   "outputs": [],
   "source": [
    "#get data and bio information from the url\n",
    "def create_df(languages = languages, url = URL):\n",
    "    import bs4 as bs \n",
    "    search_url = [url+'browse_language.php?function=find&language={}'.format(l) for l in languages]\n",
    "    htmls = []\n",
    "    for url in search_url:\n",
    "        #print('downloading from {}'.format(url))\n",
    "        htmls.append(requests.get(url).text)\n",
    "    #print(htmls)\n",
    "    \n",
    "    bss = [bs.BeautifulSoup(html,'html.parser') for html in htmls]\n",
    "    #print(bss)\n",
    "    people = []\n",
    "    counter = 0\n",
    "    for b in bss:\n",
    "        \n",
    "        for p in b.find_all('p'):\n",
    "            counter += 1\n",
    "            if p.a:\n",
    "                text = p.text.replace(' ','').split(',')\n",
    "                address = 'http://accent.gmu.edu/'+p.a['href']\n",
    "                speakerid = address.split('speakerid=')[1]\n",
    "                #print(speakerid)\n",
    "                s = bs.BeautifulSoup(requests.get(address).text,'html.parser')\n",
    "                each_bio = [li.text for li in s.find('ul','bio').find_all('li')]\n",
    "                native_language = each_bio[1].split(': ')[1]\n",
    "                eng_residence = each_bio[6].split(': ')[1]\n",
    "                if native_language.find(\"english\") != -1 and eng_residence.find('usa') != -1:\n",
    "                    if_us_native = 1\n",
    "                else:\n",
    "                    if_us_native = 0\n",
    "                x = [speakerid,address, text[0], text[1],native_language, if_us_native]\n",
    "                #print(counter)\n",
    "                #print(x)\n",
    "                \n",
    "                people.append(x)\n",
    "                                \n",
    "    df = pd.DataFrame(people, columns=['speakerid','href','language_num','gender',\\\n",
    "                                       'native_language','if_us_native'])\n",
    "    \n",
    "    return df"
   ]
  },
  {
   "cell_type": "code",
   "execution_count": 6,
   "metadata": {},
   "outputs": [],
   "source": [
    "df = create_df()"
   ]
  },
  {
   "cell_type": "code",
   "execution_count": 7,
   "metadata": {},
   "outputs": [
    {
     "name": "stdout",
     "output_type": "stream",
     "text": [
      "The current working directory is /Users/Ming/Desktop/ind135-sp19-gaide\n"
     ]
    }
   ],
   "source": [
    "#some helper code scratch\n",
    "#df.groupby('if_us_native').count()\n",
    "\"\"\"source = bs.BeautifulSoup(requests.get(df['href'][len(df['href'])-1]).text,'html.parser')\n",
    "each_bio = [li.text for li in source.find('ul','bio').find_all('li')]\n",
    "each_bio\"\"\"\n",
    "path = os.getcwd()  \n",
    "print (\"The current working directory is %s\" % path)"
   ]
  },
  {
   "cell_type": "code",
   "execution_count": 8,
   "metadata": {},
   "outputs": [
    {
     "data": {
      "text/html": [
       "<div>\n",
       "<style scoped>\n",
       "    .dataframe tbody tr th:only-of-type {\n",
       "        vertical-align: middle;\n",
       "    }\n",
       "\n",
       "    .dataframe tbody tr th {\n",
       "        vertical-align: top;\n",
       "    }\n",
       "\n",
       "    .dataframe thead th {\n",
       "        text-align: right;\n",
       "    }\n",
       "</style>\n",
       "<table border=\"1\" class=\"dataframe\">\n",
       "  <thead>\n",
       "    <tr style=\"text-align: right;\">\n",
       "      <th></th>\n",
       "      <th>speakerid</th>\n",
       "      <th>href</th>\n",
       "      <th>language_num</th>\n",
       "      <th>gender</th>\n",
       "      <th>native_language</th>\n",
       "    </tr>\n",
       "    <tr>\n",
       "      <th>if_us_native</th>\n",
       "      <th></th>\n",
       "      <th></th>\n",
       "      <th></th>\n",
       "      <th></th>\n",
       "      <th></th>\n",
       "    </tr>\n",
       "  </thead>\n",
       "  <tbody>\n",
       "    <tr>\n",
       "      <th>0</th>\n",
       "      <td>301</td>\n",
       "      <td>301</td>\n",
       "      <td>301</td>\n",
       "      <td>301</td>\n",
       "      <td>301</td>\n",
       "    </tr>\n",
       "    <tr>\n",
       "      <th>1</th>\n",
       "      <td>457</td>\n",
       "      <td>457</td>\n",
       "      <td>457</td>\n",
       "      <td>457</td>\n",
       "      <td>457</td>\n",
       "    </tr>\n",
       "  </tbody>\n",
       "</table>\n",
       "</div>"
      ],
      "text/plain": [
       "              speakerid  href  language_num  gender  native_language\n",
       "if_us_native                                                        \n",
       "0                   301   301           301     301              301\n",
       "1                   457   457           457     457              457"
      ]
     },
     "execution_count": 8,
     "metadata": {},
     "output_type": "execute_result"
    }
   ],
   "source": [
    "df.groupby('if_us_native').count()\n"
   ]
  },
  {
   "cell_type": "code",
   "execution_count": 9,
   "metadata": {},
   "outputs": [],
   "source": [
    "def get_audio(df,destination_folder,url = mp3_url):\n",
    "    \n",
    "    if not os.path.exists(destination_folder):\n",
    "        print('creating audio destination folder'.format(destination_folder))\n",
    "        os.makedirs(os.getcwd() + \"/\" + destination_folder)\n",
    "    else:\n",
    "        print('audio destination folder already exists.')\n",
    "            \n",
    "    counter = 0\n",
    "    for lang_num in df['language_num']:\n",
    "        if not os.path.exists(destination_folder +'{}.wav'.format(lang_num)):\n",
    "            print('downloading {}'.format(lang_num))\n",
    "            (filename, headers) = urllib.request.urlretrieve(url.format(lang_num))\n",
    "            sound = AudioSegment.from_mp3(filename)\n",
    "            sound.export(os.getcwd() +\"/\"+ destination_folder + \"{}.wav\".format(lang_num),\\\n",
    "                         format=\"wav\")\n",
    "            counter += 1\n",
    "\n",
    "    return counter"
   ]
  },
  {
   "cell_type": "code",
   "execution_count": 10,
   "metadata": {},
   "outputs": [],
   "source": [
    "# get_audio(df, 'wav')"
   ]
  },
  {
   "cell_type": "code",
   "execution_count": 11,
   "metadata": {},
   "outputs": [],
   "source": [
    "#get filenames\n",
    "\n",
    "filenames = []\n",
    "\n",
    "for file in df.loc[:, \"language_num\"]:\n",
    "    filenames.append(\"wav/wav\" + file + \".wav\")\n",
    "        \n",
    "label = df.loc[:, \"if_us_native\"]\n",
    "\n",
    "d = {'filename': filenames, 'label': label}\n",
    "train = pd.DataFrame(data=d)"
   ]
  },
  {
   "cell_type": "code",
   "execution_count": 14,
   "metadata": {},
   "outputs": [],
   "source": [
    "#we extract mfcc feature from data\n",
    "def extract_feature(file_name):\n",
    "    try:\n",
    "        X, sample_rate = librosa.load(file_name, res_type='kaiser_fast') \n",
    "        mfccs = np.mean(librosa.feature.mfcc(y=X, sr=sample_rate, n_mfcc=40).T,axis=0)\n",
    "\n",
    "    except Exception as e:\n",
    "        print(\"Error encountered while parsing file: \", file)\n",
    "        return None, None\n",
    "    return (mfccs)\n",
    "\n",
    "feature = []\n",
    "for i in range(len(filenames)):\n",
    "    feature.append(extract_feature(filenames[i]))\n",
    "     \n",
    "\n",
    "temp = pd.DataFrame({'feature': feature, 'label': label})\n"
   ]
  },
  {
   "cell_type": "code",
   "execution_count": 15,
   "metadata": {},
   "outputs": [
    {
     "data": {
      "image/png": "[encoded data removed]",
      "text/plain": [
       "<Figure size 720x288 with 2 Axes>"
      ]
     },
     "metadata": {
      "needs_background": "light"
     },
     "output_type": "display_data"
    }
   ],
   "source": [
    "# Sample feature exaction plot\n",
    "\n",
    "y, sr = librosa.load(\"wav/wavenglish8.wav\", res_type='kaiser_fast') \n",
    "mfccs_ = librosa.feature.mfcc(y=y, sr=sr, n_mfcc=40)\n",
    "\n",
    "\n",
    "plt.figure(figsize=(10, 4))\n",
    "librosa.display.specshow(mfccs_, x_axis='time')\n",
    "plt.colorbar()\n",
    "plt.title('MFCC of english8.wav')\n",
    "plt.tight_layout()"
   ]
  },
  {
   "cell_type": "code",
   "execution_count": null,
   "metadata": {},
   "outputs": [],
   "source": [
    "# prepare data for building model and split data into train data and validation data\n",
    "\n",
    "X = np.array(temp.feature.tolist())\n",
    "y = np.array(temp.label.tolist())\n",
    "\n",
    "lb = LabelEncoder()\n",
    "\n",
    "y = utils.to_categorical(lb.fit_transform(y))\n",
    "\n",
    "valX = X[len(X) - 100:]\n",
    "valY = y[len(y) - 100:]\n",
    "\n",
    "\n",
    "X = X[0:len(X) - 100]\n",
    "y = y[0:len(y) - 100]\n"
   ]
  },
  {
   "cell_type": "code",
   "execution_count": 67,
   "metadata": {},
   "outputs": [],
   "source": [
    "# build model\n",
    "labels = y.shape[1]\n",
    "filter_size = 2\n",
    "\n",
    "\n",
    "model = Sequential()\n",
    "\n",
    "model.add(Dense(256, input_shape=(40,)))\n",
    "model.add(Activation('relu'))\n",
    "model.add(Dropout(0.5))\n",
    "\n",
    "model.add(Dense(256))\n",
    "model.add(Activation('relu'))\n",
    "model.add(Dropout(0.5))\n",
    "\n",
    "model.add(Dense(labels))\n",
    "model.add(Activation('softmax'))\n",
    "\n",
    "model.compile(loss='categorical_crossentropy', metrics=['accuracy'], optimizer='adam')"
   ]
  },
  {
   "cell_type": "code",
   "execution_count": 68,
   "metadata": {},
   "outputs": [
    {
     "name": "stdout",
     "output_type": "stream",
     "text": [
      "Train on 658 samples, validate on 100 samples\n",
      "Epoch 1/5\n",
      "658/658 [==============================] - 1s 1ms/step - loss: 6.0734 - acc: 0.5866 - val_loss: 3.5460 - val_acc: 0.7800\n",
      "Epoch 2/5\n",
      "658/658 [==============================] - 0s 110us/step - loss: 6.7258 - acc: 0.5775 - val_loss: 3.5460 - val_acc: 0.7800\n",
      "Epoch 3/5\n",
      "658/658 [==============================] - 0s 102us/step - loss: 6.8214 - acc: 0.5729 - val_loss: 3.5460 - val_acc: 0.7800\n",
      "Epoch 4/5\n",
      "658/658 [==============================] - 0s 105us/step - loss: 6.8343 - acc: 0.5760 - val_loss: 3.5460 - val_acc: 0.7800\n",
      "Epoch 5/5\n",
      "658/658 [==============================] - 0s 110us/step - loss: 6.7626 - acc: 0.5790 - val_loss: 3.5460 - val_acc: 0.7800\n"
     ]
    },
    {
     "data": {
      "text/plain": [
       "<keras.callbacks.History at 0x1300226d8>"
      ]
     },
     "execution_count": 68,
     "metadata": {},
     "output_type": "execute_result"
    }
   ],
   "source": [
    "model.fit(X, y, batch_size=32, epochs=5, validation_data=(valX, valY))"
   ]
  },
  {
   "cell_type": "code",
   "execution_count": null,
   "metadata": {},
   "outputs": [],
   "source": []
  }
 ],
 "metadata": {
  "kernelspec": {
   "display_name": "Python 3",
   "language": "python",
   "name": "python3"
  },
  "language_info": {
   "codemirror_mode": {
    "name": "ipython",
    "version": 3
   },
   "file_extension": ".py",
   "mimetype": "text/x-python",
   "name": "python",
   "nbconvert_exporter": "python",
   "pygments_lexer": "ipython3",
   "version": "3.6.6"
  }
 },
 "nbformat": 4,
 "nbformat_minor": 2
}
