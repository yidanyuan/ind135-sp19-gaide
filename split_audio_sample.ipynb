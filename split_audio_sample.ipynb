{
 "cells": [
  {
   "cell_type": "code",
   "execution_count": 7,
   "metadata": {},
   "outputs": [],
   "source": [
    "import numpy as np\n",
    "import pandas as pd\n",
    "import librosa\n",
    "import multiprocessing\n",
    "import sys\n",
    "import os"
   ]
  },
  {
   "cell_type": "code",
   "execution_count": 11,
   "metadata": {},
   "outputs": [],
   "source": [
    "#Method to take a wav file and split it into short chunks using pydub\n",
    "def audio_split_on_slience(file_name, dest_folder):\n",
    "    from pydub import AudioSegment\n",
    "    from pydub.silence import split_on_silence\n",
    "    \n",
    "    #check if destination folder is already there, if so nevermind, if not create new folder\n",
    "    if not os.path.exists(dest_folder):\n",
    "        print('creating audio destination folder'.format(dest_folder))\n",
    "        os.makedirs(os.getcwd() + \"/\" + dest_folder)\n",
    "        \n",
    "    sound = AudioSegment.from_wav(file_name)\n",
    "    chunks = split_on_silence(sound, \n",
    "    # must be silent for at least 50ms\n",
    "    min_silence_len=40,\n",
    "\n",
    "    # consider it silent if quieter than -18 dBFS\n",
    "    silence_thresh=-25\n",
    "    )\n",
    "    \n",
    "    #save chopped chunks separately into dest_folder\n",
    "    for i, chunk in enumerate(chunks):\n",
    "        chunk.export(os.getcwd() + \"/\" + dest_folder +\"/\"+\"chunk{0}.wav\".format(i), format=\"wav\")\n",
    "    \n",
    "    #return: array showing chopped chunks\n",
    "    return chunks\n",
    "\n",
    "\n",
    "    \n",
    "    "
   ]
  },
  {
   "cell_type": "code",
   "execution_count": 12,
   "metadata": {},
   "outputs": [
    {
     "data": {
      "text/plain": [
       "[<pydub.audio_segment.AudioSegment at 0x1c1c78c438>,\n",
       " <pydub.audio_segment.AudioSegment at 0x1c1c78c978>,\n",
       " <pydub.audio_segment.AudioSegment at 0x1c1c58a748>,\n",
       " <pydub.audio_segment.AudioSegment at 0x1c1c58ac18>,\n",
       " <pydub.audio_segment.AudioSegment at 0x1c1c58ae10>,\n",
       " <pydub.audio_segment.AudioSegment at 0x1c1c58ae48>,\n",
       " <pydub.audio_segment.AudioSegment at 0x1c1c58aeb8>,\n",
       " <pydub.audio_segment.AudioSegment at 0x1c1c58ada0>,\n",
       " <pydub.audio_segment.AudioSegment at 0x1c1c58aef0>,\n",
       " <pydub.audio_segment.AudioSegment at 0x1c1c58add8>,\n",
       " <pydub.audio_segment.AudioSegment at 0x1c1c58ae80>,\n",
       " <pydub.audio_segment.AudioSegment at 0x1c1c58ad30>,\n",
       " <pydub.audio_segment.AudioSegment at 0x1c1c58af28>,\n",
       " <pydub.audio_segment.AudioSegment at 0x1c1c58afd0>,\n",
       " <pydub.audio_segment.AudioSegment at 0x1c1c58aa58>,\n",
       " <pydub.audio_segment.AudioSegment at 0x1c1c58a940>,\n",
       " <pydub.audio_segment.AudioSegment at 0x1c1c58ab38>,\n",
       " <pydub.audio_segment.AudioSegment at 0x1c1c58a828>,\n",
       " <pydub.audio_segment.AudioSegment at 0x1c1c58a978>,\n",
       " <pydub.audio_segment.AudioSegment at 0x1c1c58a7b8>,\n",
       " <pydub.audio_segment.AudioSegment at 0x1c1c58af60>,\n",
       " <pydub.audio_segment.AudioSegment at 0x1c1c58af98>,\n",
       " <pydub.audio_segment.AudioSegment at 0x1c1c58acc0>,\n",
       " <pydub.audio_segment.AudioSegment at 0x1c1c58ac50>,\n",
       " <pydub.audio_segment.AudioSegment at 0x1c1c58ad68>,\n",
       " <pydub.audio_segment.AudioSegment at 0x1c1c58ac88>,\n",
       " <pydub.audio_segment.AudioSegment at 0x1c1c58abe0>,\n",
       " <pydub.audio_segment.AudioSegment at 0x1c1c58acf8>,\n",
       " <pydub.audio_segment.AudioSegment at 0x1c1c58aac8>,\n",
       " <pydub.audio_segment.AudioSegment at 0x1c1c58a898>,\n",
       " <pydub.audio_segment.AudioSegment at 0x1c1c58a8d0>,\n",
       " <pydub.audio_segment.AudioSegment at 0x1c1c58aa20>,\n",
       " <pydub.audio_segment.AudioSegment at 0x1c1c7730b8>,\n",
       " <pydub.audio_segment.AudioSegment at 0x112f2e780>,\n",
       " <pydub.audio_segment.AudioSegment at 0x112f2e6d8>,\n",
       " <pydub.audio_segment.AudioSegment at 0x1c1cc4d048>,\n",
       " <pydub.audio_segment.AudioSegment at 0x1c1cc4d080>,\n",
       " <pydub.audio_segment.AudioSegment at 0x1c1cc4d0b8>,\n",
       " <pydub.audio_segment.AudioSegment at 0x1c1cc4d0f0>,\n",
       " <pydub.audio_segment.AudioSegment at 0x1c1cc4d128>,\n",
       " <pydub.audio_segment.AudioSegment at 0x1c1cc4d160>,\n",
       " <pydub.audio_segment.AudioSegment at 0x1c1cc4d198>,\n",
       " <pydub.audio_segment.AudioSegment at 0x1c1cc4d1d0>,\n",
       " <pydub.audio_segment.AudioSegment at 0x1c1cc4d208>,\n",
       " <pydub.audio_segment.AudioSegment at 0x1c1cc4d240>,\n",
       " <pydub.audio_segment.AudioSegment at 0x1c1cc4d278>,\n",
       " <pydub.audio_segment.AudioSegment at 0x1c1cc4d2b0>,\n",
       " <pydub.audio_segment.AudioSegment at 0x1c1cc4d2e8>,\n",
       " <pydub.audio_segment.AudioSegment at 0x1c1cc4d320>,\n",
       " <pydub.audio_segment.AudioSegment at 0x1c1cc4d358>,\n",
       " <pydub.audio_segment.AudioSegment at 0x1c1cc4d390>,\n",
       " <pydub.audio_segment.AudioSegment at 0x1c1cc4d3c8>,\n",
       " <pydub.audio_segment.AudioSegment at 0x1c1cc4d400>,\n",
       " <pydub.audio_segment.AudioSegment at 0x1c1cc4d438>,\n",
       " <pydub.audio_segment.AudioSegment at 0x1c1cc4d470>,\n",
       " <pydub.audio_segment.AudioSegment at 0x1c1cc4d4a8>,\n",
       " <pydub.audio_segment.AudioSegment at 0x1c1cc4d4e0>,\n",
       " <pydub.audio_segment.AudioSegment at 0x1c1cc4d518>,\n",
       " <pydub.audio_segment.AudioSegment at 0x1c1cc4d550>,\n",
       " <pydub.audio_segment.AudioSegment at 0x1c1cc4d588>,\n",
       " <pydub.audio_segment.AudioSegment at 0x1c1cc4d5c0>]"
      ]
     },
     "execution_count": 12,
     "metadata": {},
     "output_type": "execute_result"
    }
   ],
   "source": [
    "#example: calling audio_split_on_slience() on \"wavmandarin131.wav\",\n",
    "#saved chunks in subfolder \"mandarin131\"\n",
    "\n",
    "check_chunks = audio_split_on_slience(\"wavmandarin131.wav\", \"mandarin131\")\n",
    "check_chunks"
   ]
  },
  {
   "cell_type": "code",
   "execution_count": null,
   "metadata": {},
   "outputs": [],
   "source": []
  }
 ],
 "metadata": {
  "kernelspec": {
   "display_name": "Python 3",
   "language": "python",
   "name": "python3"
  },
  "language_info": {
   "codemirror_mode": {
    "name": "ipython",
    "version": 3
   },
   "file_extension": ".py",
   "mimetype": "text/x-python",
   "name": "python",
   "nbconvert_exporter": "python",
   "pygments_lexer": "ipython3",
   "version": "3.7.1"
  }
 },
 "nbformat": 4,
 "nbformat_minor": 2
}
